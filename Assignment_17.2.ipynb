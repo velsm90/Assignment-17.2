{
 "cells": [
  {
   "cell_type": "code",
   "execution_count": 14,
   "metadata": {},
   "outputs": [
    {
     "name": "stdout",
     "output_type": "stream",
     "text": [
      "The probability of getting D exactly is: 2.4427639671008095e-26\n"
     ]
    }
   ],
   "source": [
    "#A die marked A to E is rolled 50 times. Find the probability of getting a “D” exactly 5 times\n",
    "\n",
    "# Import libraries\n",
    "import numpy as np\n",
    "import pandas as pd\n",
    "import math \n",
    "\n",
    "n= 50 # Number of times rolled\n",
    "d = 5 # Number of times getting D\n",
    "s = 1/5 # probability of success on a single trial\n",
    "s1 = 1-s # Probability of not getting D \n",
    "\n",
    "def fact(number, end, fact_num): # Function to find factorial\n",
    "    while end != 0:\n",
    "        fact_num = fact_num * number\n",
    "        end = end -1\n",
    "        number = number -1\n",
    "        #print(fact_num,end)\n",
    "    return fact_num\n",
    "\n",
    "c = fact(50,5,1)/math.factorial(5)\n",
    "a = (s**45)\n",
    "b = (s1**5)\n",
    "1-1/5\n",
    "\n",
    "p = c * a * b # C(50,5) * (1/5)**45 * (4/5)**5\n",
    "print(\"The probability of getting D exactly is:\",p)\n"
   ]
  },
  {
   "cell_type": "code",
   "execution_count": null,
   "metadata": {},
   "outputs": [],
   "source": []
  }
 ],
 "metadata": {
  "kernelspec": {
   "display_name": "Python 3",
   "language": "python",
   "name": "python3"
  },
  "language_info": {
   "codemirror_mode": {
    "name": "ipython",
    "version": 3
   },
   "file_extension": ".py",
   "mimetype": "text/x-python",
   "name": "python",
   "nbconvert_exporter": "python",
   "pygments_lexer": "ipython3",
   "version": "3.6.4"
  }
 },
 "nbformat": 4,
 "nbformat_minor": 2
}
